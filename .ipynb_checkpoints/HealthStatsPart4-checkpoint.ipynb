{
 "cells": [
  {
   "cell_type": "markdown",
   "metadata": {},
   "source": [
    "# Health Stats Part 3: Waist 2 Hip Ratios"
   ]
  },
  {
   "cell_type": "markdown",
   "metadata": {},
   "source": [
    "<!--- Write an explanation of the Waist To Hips Ratio statistic used by health professionals. Please include an explanation of what it is used for, exactly how it is calculated, and how to interpret the results. Note: Formmatting matters. Make this as professional as you can using Markdown.  --->\n",
    "EDIT THIS MARKDOWN CELL"
   ]
  },
  {
   "cell_type": "markdown",
   "metadata": {},
   "source": [
    "## Source Data "
   ]
  },
  {
   "cell_type": "markdown",
   "metadata": {},
   "source": [
    "<!--- Replace the text below with a Markdown bullet list that defines the columns of the CSV file. Be sure to indicate the data type for each column. --->\n",
    "EDIT THIS MARKDOWN CELL"
   ]
  },
  {
   "cell_type": "markdown",
   "metadata": {},
   "source": [
    "## Data Import"
   ]
  },
  {
   "cell_type": "code",
   "execution_count": 67,
   "metadata": {},
   "outputs": [
    {
     "name": "stdout",
     "output_type": "stream",
     "text": [
      "    ID  Waist  Hip Gender W2H_Ratio\n",
      "0    1     30   32      M    0.9375\n",
      "1    2     32   37      M  0.864865\n",
      "2    3     30   36      M  0.833333\n",
      "3    4     33   39      M  0.846154\n",
      "4    5     29   33      M  0.878788\n",
      "5    6     32   38      M  0.842105\n",
      "6    7     33   42      M  0.785714\n",
      "7    8     30   40      M      0.75\n",
      "8    9     30   37      M  0.810811\n",
      "9   10     32   39      M  0.820513\n",
      "10  11     24   35      F  0.685714\n",
      "11  12     25   37      F  0.675676\n",
      "12  13     24   37      F  0.648649\n",
      "13  14     22   34      F  0.647059\n",
      "14  15     26   38      F  0.684211\n",
      "15  16     26   37      F  0.702703\n",
      "16  17     25   38      F  0.657895\n",
      "17  18     26   37      F  0.702703\n",
      "18  19     28   40      F       0.7\n",
      "19  20     23   35      F  0.657143\n"
     ]
    }
   ],
   "source": [
    "# Goal: Extract the data from the file\n",
    "\n",
    "import numpy as np\n",
    "#import panda\n",
    "import pandas as pd \n",
    "\n",
    "#extract data from w2h_data to panda\n",
    "rows= pd.read_csv('w2h_data.csv',delimiter=\",\", dtype={\"ID\":np.int32,\"Waist\":np.int64,\"Hip\":np.int64,\"Gender\":np.object})\n",
    "print(w2h_data)\n",
    "#import numpy as np\n",
    "\n",
    "\n",
    "#rows = np.genfromtxt('w2h_data.csv',delimiter=',',names=True,dtype=[int,float,float,'U1'])"
   ]
  },
  {
   "cell_type": "markdown",
   "metadata": {},
   "source": [
    "## Calculations"
   ]
  },
  {
   "cell_type": "code",
   "execution_count": 76,
   "metadata": {
    "scrolled": true
   },
   "outputs": [
    {
     "name": "stdout",
     "output_type": "stream",
     "text": [
      "    ID  Waist  Hip Gender  W2H Ratio  Shape\n",
      "0    1     30   32      M   0.937500  Apple\n",
      "1    2     32   37      M   0.864865   Pear\n",
      "2    3     30   36      M   0.833333   Pear\n",
      "3    4     33   39      M   0.846154   Pear\n",
      "4    5     29   33      M   0.878788   Pear\n",
      "5    6     32   38      M   0.842105   Pear\n",
      "6    7     33   42      M   0.785714   Pear\n",
      "7    8     30   40      M   0.750000   Pear\n",
      "8    9     30   37      M   0.810811   Pear\n",
      "9   10     32   39      M   0.820513   Pear\n",
      "10  11     24   35      F   0.685714   Pear\n",
      "11  12     25   37      F   0.675676   Pear\n",
      "12  13     24   37      F   0.648649   Pear\n",
      "13  14     22   34      F   0.647059   Pear\n",
      "14  15     26   38      F   0.684211   Pear\n",
      "15  16     26   37      F   0.702703   Pear\n",
      "16  17     25   38      F   0.657895   Pear\n",
      "17  18     26   37      F   0.702703   Pear\n",
      "18  19     28   40      F   0.700000   Pear\n",
      "19  20     23   35      F   0.657143   Pear\n"
     ]
    }
   ],
   "source": [
    "# Goal: For each row of data calculate and store the w2h_ratio and shape.\n",
    "\n",
    "# calculate the waist to hips ratios\n",
    "w2h_ratios = rows['Waist']/rows['Hip']\n",
    "\n",
    "#Add ratio\n",
    "# determine who is male (True) or female (False)\n",
    "males = (rows['Gender']=='M')\n",
    "\n",
    "# males with w2h ration > 0.9 are apple shaped\n",
    "male_apples = np.logical_and((w2h_ratios>0.9),males)\n",
    "\n",
    "# females with w2h ratio > 0.8 are apple shaped\n",
    "female_apples = np.logical_and((w2h_ratios>0.8),np.logical_not(males))\n",
    "\n",
    "# combines the male_apples and female_apples\n",
    "apples=np.logical_or(male_apples,female_apples)\n",
    "\n",
    "# works like an if then else statement\n",
    "shapes=np.where(apples,'Apple','Pear')\n",
    "\n",
    "\n",
    "# add the two new columns\n",
    "rows['W2H Ratio']=w2h_ratios\n",
    "rows['Shape']=shapes\n",
    "\n",
    "\n",
    "#own try\n",
    "#convert to numpy\n",
    "#rows= np.array(w2h_data)\n",
    "\n",
    "#Calculate the W2h ratio\n",
    "\n",
    "#w2h_ratio= rows[:,1]/rows[:,2]\n",
    "#  w2h_data['W2H_Ratio']=w2h_ratio\n",
    "\n",
    "#If and Else statement for shape of Male and Female\n",
    "#Shape= if ((rows[:,4]==\"M\" and rows[:,5]>0.9) or (rows[:,4]==\"F\" and rows[:,5]>0.8)):\n",
    "        #print(\"Apple\")\n",
    "    #else:\n",
    "        #print(\"Pear\")\n",
    "#print(w2h_data)\n",
    "\n",
    "print(rows)\n"
   ]
  },
  {
   "cell_type": "code",
   "execution_count": null,
   "metadata": {
    "collapsed": true
   },
   "outputs": [],
   "source": []
  },
  {
   "cell_type": "markdown",
   "metadata": {},
   "source": [
    "##Output"
   ]
  },
  {
   "cell_type": "code",
   "execution_count": 77,
   "metadata": {},
   "outputs": [],
   "source": [
    "# Goal: pretty print the rows as an HTML table\n",
    "\n",
    "# Note: this works, but we can do this much better with pandas\n",
    "#html_table = '<table><tr><th>'\n",
    "#html_table += \"</th><th>\".join(results.dtype.names)\n",
    "#html_table += '</th></tr>'\n",
    "#for row in results:\n",
    "#    html_table += \"<tr><td>\"\n",
    "#    html_table += \"</td><td>\".join(str(v) for v in row)\n",
    "#    html_table += \"</td></tr>\"\n",
    "#html_table += \"</table>\"\n",
    "\n",
    "#from IPython.display import HTML, display\n",
    "#display(HTML(html_table))\n",
    "\n",
    "# Export to \"StatsResults.csv\"\n",
    "rows.to_csv=(\"StatsResults.csv\")"
   ]
  },
  {
   "cell_type": "code",
   "execution_count": null,
   "metadata": {
    "collapsed": true
   },
   "outputs": [],
   "source": []
  },
  {
   "cell_type": "code",
   "execution_count": null,
   "metadata": {
    "collapsed": true
   },
   "outputs": [],
   "source": []
  }
 ],
 "metadata": {
  "kernelspec": {
   "display_name": "Python 3",
   "language": "python",
   "name": "python3"
  },
  "language_info": {
   "codemirror_mode": {
    "name": "ipython",
    "version": 3
   },
   "file_extension": ".py",
   "mimetype": "text/x-python",
   "name": "python",
   "nbconvert_exporter": "python",
   "pygments_lexer": "ipython3",
   "version": "3.6.1"
  }
 },
 "nbformat": 4,
 "nbformat_minor": 2
}
